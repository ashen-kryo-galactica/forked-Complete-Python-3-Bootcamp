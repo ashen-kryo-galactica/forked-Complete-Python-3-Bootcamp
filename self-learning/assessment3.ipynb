{
 "cells": [
  {
   "cell_type": "code",
   "execution_count": 3,
   "metadata": {},
   "outputs": [],
   "source": [
    "# function problems"
   ]
  },
  {
   "cell_type": "code",
   "execution_count": 2,
   "metadata": {},
   "outputs": [],
   "source": [
    "# WARMUP PROBLEMS"
   ]
  },
  {
   "cell_type": "code",
   "execution_count": 2,
   "metadata": {},
   "outputs": [],
   "source": [
    "# a,b -\n",
    "# if both even - lesser\n",
    "# if atleast one odd - greater"
   ]
  },
  {
   "cell_type": "code",
   "execution_count": 6,
   "metadata": {},
   "outputs": [],
   "source": [
    "def lesser_of_two_even(num1, num2):\n",
    "    if num1%2==0 and num2%2==0:\n",
    "        return min(num1, num2)\n",
    "    else:\n",
    "        return max(num1, num2)"
   ]
  },
  {
   "cell_type": "code",
   "execution_count": 7,
   "metadata": {},
   "outputs": [
    {
     "data": {
      "text/plain": [
       "2"
      ]
     },
     "execution_count": 7,
     "metadata": {},
     "output_type": "execute_result"
    }
   ],
   "source": [
    "lesser_of_two_even(2,4)"
   ]
  },
  {
   "cell_type": "code",
   "execution_count": 8,
   "metadata": {},
   "outputs": [
    {
     "data": {
      "text/plain": [
       "5"
      ]
     },
     "execution_count": 8,
     "metadata": {},
     "output_type": "execute_result"
    }
   ],
   "source": [
    "lesser_of_two_even(2,5)"
   ]
  },
  {
   "cell_type": "code",
   "execution_count": 9,
   "metadata": {},
   "outputs": [],
   "source": [
    "# animal cracker\n",
    "# input 2 word string\n",
    "# true if 1st letter of each word same\n",
    "# else false"
   ]
  },
  {
   "cell_type": "code",
   "execution_count": 10,
   "metadata": {},
   "outputs": [],
   "source": [
    "def animal_crackers(text):\n",
    "    mylist = text.split()\n",
    "    if mylist[0][0].upper() == mylist[1][0].upper():\n",
    "        return True\n",
    "    else:\n",
    "        return False"
   ]
  },
  {
   "cell_type": "code",
   "execution_count": 11,
   "metadata": {},
   "outputs": [
    {
     "data": {
      "text/plain": [
       "True"
      ]
     },
     "execution_count": 11,
     "metadata": {},
     "output_type": "execute_result"
    }
   ],
   "source": [
    "animal_crackers('Lon Lov')"
   ]
  },
  {
   "cell_type": "code",
   "execution_count": 12,
   "metadata": {},
   "outputs": [
    {
     "data": {
      "text/plain": [
       "False"
      ]
     },
     "execution_count": 12,
     "metadata": {},
     "output_type": "execute_result"
    }
   ],
   "source": [
    "animal_crackers('Lon Sov')"
   ]
  },
  {
   "cell_type": "code",
   "execution_count": 13,
   "metadata": {},
   "outputs": [],
   "source": [
    "def animal_crackers(text):\n",
    "    mylist = text.split()\n",
    "    return mylist[0][0].upper() == mylist[1][0].upper()"
   ]
  },
  {
   "cell_type": "code",
   "execution_count": 14,
   "metadata": {},
   "outputs": [
    {
     "data": {
      "text/plain": [
       "False"
      ]
     },
     "execution_count": 14,
     "metadata": {},
     "output_type": "execute_result"
    }
   ],
   "source": [
    "animal_crackers('Lon Sov')"
   ]
  },
  {
   "cell_type": "code",
   "execution_count": 15,
   "metadata": {},
   "outputs": [
    {
     "data": {
      "text/plain": [
       "True"
      ]
     },
     "execution_count": 15,
     "metadata": {},
     "output_type": "execute_result"
    }
   ],
   "source": [
    "animal_crackers('Lon Lov')"
   ]
  },
  {
   "cell_type": "code",
   "execution_count": 16,
   "metadata": {},
   "outputs": [],
   "source": [
    "# makes twenty\n",
    "# accepts 2 number\n",
    "# True -> if sum 20 or one of the digit is 20\n",
    "# else -> False"
   ]
  },
  {
   "cell_type": "code",
   "execution_count": 20,
   "metadata": {},
   "outputs": [],
   "source": [
    "def makes_twenty(n1, n2):\n",
    "    if n1+n2 == 20:\n",
    "        return True\n",
    "    elif n1==20 or n2==20:\n",
    "        return True\n",
    "    else:\n",
    "        return False\n"
   ]
  },
  {
   "cell_type": "code",
   "execution_count": 21,
   "metadata": {},
   "outputs": [
    {
     "data": {
      "text/plain": [
       "True"
      ]
     },
     "execution_count": 21,
     "metadata": {},
     "output_type": "execute_result"
    }
   ],
   "source": [
    "makes_twenty(10, 20)"
   ]
  },
  {
   "cell_type": "code",
   "execution_count": 22,
   "metadata": {},
   "outputs": [
    {
     "data": {
      "text/plain": [
       "False"
      ]
     },
     "execution_count": 22,
     "metadata": {},
     "output_type": "execute_result"
    }
   ],
   "source": [
    "makes_twenty(3, 2)"
   ]
  },
  {
   "cell_type": "code",
   "execution_count": 23,
   "metadata": {},
   "outputs": [],
   "source": [
    "def makes_twenty(n1, n2):\n",
    "    return (n1+n2 == 20) or n1==20 or n2==20"
   ]
  },
  {
   "cell_type": "code",
   "execution_count": 24,
   "metadata": {},
   "outputs": [
    {
     "data": {
      "text/plain": [
       "False"
      ]
     },
     "execution_count": 24,
     "metadata": {},
     "output_type": "execute_result"
    }
   ],
   "source": [
    "makes_twenty(3, 2)"
   ]
  },
  {
   "cell_type": "code",
   "execution_count": 25,
   "metadata": {},
   "outputs": [
    {
     "data": {
      "text/plain": [
       "True"
      ]
     },
     "execution_count": 25,
     "metadata": {},
     "output_type": "execute_result"
    }
   ],
   "source": [
    "makes_twenty(10, 20)\n"
   ]
  },
  {
   "cell_type": "code",
   "execution_count": 26,
   "metadata": {},
   "outputs": [
    {
     "data": {
      "text/plain": [
       "True"
      ]
     },
     "execution_count": 26,
     "metadata": {},
     "output_type": "execute_result"
    }
   ],
   "source": [
    "makes_twenty(10, 10)"
   ]
  },
  {
   "cell_type": "code",
   "execution_count": 1,
   "metadata": {},
   "outputs": [],
   "source": [
    "# if we are checking \n",
    "# if boolean checking and returning boolean\n",
    "# then -> we can do this one sentence"
   ]
  },
  {
   "cell_type": "code",
   "execution_count": null,
   "metadata": {},
   "outputs": [],
   "source": []
  },
  {
   "cell_type": "code",
   "execution_count": 4,
   "metadata": {},
   "outputs": [],
   "source": [
    "# Level 1 - Problems"
   ]
  },
  {
   "cell_type": "code",
   "execution_count": 5,
   "metadata": {},
   "outputs": [],
   "source": [
    "# OLD MACDONALD - \n",
    "# Capitalize firsy and fourth letter of word"
   ]
  },
  {
   "cell_type": "code",
   "execution_count": 10,
   "metadata": {},
   "outputs": [],
   "source": [
    "def old_macdonald(name):\n",
    "    name = name.capitalize()\n",
    "    \n",
    "    return name[:3] + name[3].upper() + name[4:]"
   ]
  },
  {
   "cell_type": "code",
   "execution_count": 11,
   "metadata": {},
   "outputs": [
    {
     "data": {
      "text/plain": [
       "'MacDonald'"
      ]
     },
     "execution_count": 11,
     "metadata": {},
     "output_type": "execute_result"
    }
   ],
   "source": [
    "old_macdonald('macdonald')"
   ]
  },
  {
   "cell_type": "code",
   "execution_count": 18,
   "metadata": {},
   "outputs": [],
   "source": [
    "## joining elements of a list\n",
    "mylis = ['a', 'b', 'i']"
   ]
  },
  {
   "cell_type": "code",
   "execution_count": 19,
   "metadata": {},
   "outputs": [
    {
     "data": {
      "text/plain": [
       "'a--b--i'"
      ]
     },
     "execution_count": 19,
     "metadata": {},
     "output_type": "execute_result"
    }
   ],
   "source": [
    "'--'.join(mylis)"
   ]
  },
  {
   "cell_type": "code",
   "execution_count": null,
   "metadata": {},
   "outputs": [],
   "source": []
  },
  {
   "cell_type": "code",
   "execution_count": 12,
   "metadata": {},
   "outputs": [],
   "source": [
    "# Master yoda\n",
    "# reverse sentece and return it\n",
    "# 'Welcome to zland' -> 'zland to Welcome'"
   ]
  },
  {
   "cell_type": "code",
   "execution_count": 16,
   "metadata": {},
   "outputs": [],
   "source": [
    "def master_yoda(line):\n",
    "    words = line.split()\n",
    "    words = words[::-1]\n",
    "    new_line = ''\n",
    "    for word in words:\n",
    "        new_line += ' ' + word\n",
    "    print(new_line)\n",
    "    return(new_line.strip())"
   ]
  },
  {
   "cell_type": "code",
   "execution_count": 17,
   "metadata": {},
   "outputs": [
    {
     "name": "stdout",
     "output_type": "stream",
     "text": [
      " zland to Welcome\n"
     ]
    },
    {
     "data": {
      "text/plain": [
       "'zland to Welcome'"
      ]
     },
     "execution_count": 17,
     "metadata": {},
     "output_type": "execute_result"
    }
   ],
   "source": [
    "master_yoda(\"Welcome to zland\")"
   ]
  },
  {
   "cell_type": "code",
   "execution_count": 20,
   "metadata": {},
   "outputs": [],
   "source": [
    "def master_yoda(line):\n",
    "    words = line.split()\n",
    "    rev_words = words[::-1]\n",
    "\n",
    "    print(' '.join(rev_words))\n",
    "    return"
   ]
  },
  {
   "cell_type": "code",
   "execution_count": 21,
   "metadata": {},
   "outputs": [
    {
     "name": "stdout",
     "output_type": "stream",
     "text": [
      "zland to Welcome\n"
     ]
    }
   ],
   "source": [
    "master_yoda(\"Welcome to zland\")"
   ]
  },
  {
   "cell_type": "code",
   "execution_count": 22,
   "metadata": {},
   "outputs": [
    {
     "data": {
      "text/plain": [
       "10"
      ]
     },
     "execution_count": 22,
     "metadata": {},
     "output_type": "execute_result"
    }
   ],
   "source": [
    "abs(-10)"
   ]
  },
  {
   "cell_type": "code",
   "execution_count": null,
   "metadata": {},
   "outputs": [],
   "source": []
  },
  {
   "cell_type": "code",
   "execution_count": null,
   "metadata": {},
   "outputs": [],
   "source": []
  },
  {
   "cell_type": "code",
   "execution_count": 23,
   "metadata": {},
   "outputs": [],
   "source": [
    "## Level TWO Problems --"
   ]
  },
  {
   "cell_type": "code",
   "execution_count": 25,
   "metadata": {},
   "outputs": [],
   "source": [
    "# Find 33 -\n",
    "# given a list - true if consequitive 3 present\n",
    "# has_33"
   ]
  },
  {
   "cell_type": "code",
   "execution_count": 26,
   "metadata": {},
   "outputs": [],
   "source": [
    "def has_33(mylist):\n",
    "    for i in range(0,len(mylist)-1):\n",
    "        if mylist[i] == 3 and mylist[i+1]==3:\n",
    "            return True\n",
    "    return False"
   ]
  },
  {
   "cell_type": "code",
   "execution_count": 27,
   "metadata": {},
   "outputs": [
    {
     "data": {
      "text/plain": [
       "False"
      ]
     },
     "execution_count": 27,
     "metadata": {},
     "output_type": "execute_result"
    }
   ],
   "source": [
    "has_33([1,2,3,1,3])"
   ]
  },
  {
   "cell_type": "code",
   "execution_count": 28,
   "metadata": {},
   "outputs": [
    {
     "data": {
      "text/plain": [
       "True"
      ]
     },
     "execution_count": 28,
     "metadata": {},
     "output_type": "execute_result"
    }
   ],
   "source": [
    "has_33([1,2,3,3,9])"
   ]
  },
  {
   "cell_type": "code",
   "execution_count": null,
   "metadata": {},
   "outputs": [],
   "source": [
    "# Paper Doll - Given string, return a string where every character in the original there are 3 characters"
   ]
  },
  {
   "cell_type": "code",
   "execution_count": 31,
   "metadata": {},
   "outputs": [],
   "source": [
    "def paper_doll(text):\n",
    "\n",
    "    new_text = [letter * 3 for letter in text] # # letter * 3 --> letter + letter + letter\n",
    "    print(new_text)\n",
    "    return ''.join(new_text)"
   ]
  },
  {
   "cell_type": "code",
   "execution_count": 33,
   "metadata": {},
   "outputs": [
    {
     "name": "stdout",
     "output_type": "stream",
     "text": [
      "['AAA', 'ggg', 'nnn', 'iii', 'kkk']\n"
     ]
    },
    {
     "data": {
      "text/plain": [
       "'AAAgggnnniiikkk'"
      ]
     },
     "execution_count": 33,
     "metadata": {},
     "output_type": "execute_result"
    }
   ],
   "source": [
    "paper_doll(\"Agnik\")"
   ]
  },
  {
   "cell_type": "code",
   "execution_count": null,
   "metadata": {},
   "outputs": [],
   "source": [
    "# BLACKJACK - GIVEN 3 INTEGERS -> B/W 1 TO 11\n",
    "# SUM is less than or equal to 21 -> return sum\n",
    "# If their sum exceeds 21 and contains 11 -> Reduce total sum by 10.\n",
    "# sum exceeds 21 -> BUST"
   ]
  },
  {
   "cell_type": "code",
   "execution_count": 5,
   "metadata": {},
   "outputs": [],
   "source": [
    "def blackjack(a, b, c):\n",
    "    sum = a + b + c\n",
    "    if sum > 21 and (a == 11 or b == 11 or c == 11):\n",
    "        sum = sum - 10\n",
    "    if sum > 21:\n",
    "        return 'BUST'\n",
    "    else:\n",
    "        return sum\n"
   ]
  },
  {
   "cell_type": "code",
   "execution_count": 6,
   "metadata": {},
   "outputs": [
    {
     "data": {
      "text/plain": [
       "18"
      ]
     },
     "execution_count": 6,
     "metadata": {},
     "output_type": "execute_result"
    }
   ],
   "source": [
    "blackjack(5,6,7)"
   ]
  },
  {
   "cell_type": "code",
   "execution_count": 7,
   "metadata": {},
   "outputs": [
    {
     "data": {
      "text/plain": [
       "'BUST'"
      ]
     },
     "execution_count": 7,
     "metadata": {},
     "output_type": "execute_result"
    }
   ],
   "source": [
    "blackjack(9,9,9)"
   ]
  },
  {
   "cell_type": "code",
   "execution_count": 8,
   "metadata": {},
   "outputs": [
    {
     "data": {
      "text/plain": [
       "19"
      ]
     },
     "execution_count": 8,
     "metadata": {},
     "output_type": "execute_result"
    }
   ],
   "source": [
    "blackjack(9,9,11)"
   ]
  },
  {
   "cell_type": "code",
   "execution_count": 9,
   "metadata": {},
   "outputs": [],
   "source": [
    "## Summer of 69 - return sum of array -> ignore section start with 6 end with 9"
   ]
  },
  {
   "cell_type": "code",
   "execution_count": 68,
   "metadata": {},
   "outputs": [],
   "source": [
    "def summer_69(sumlist):\n",
    "\n",
    "    indexOf6 = 0\n",
    "    indexOf9 = 0\n",
    "\n",
    "    if 6 in sumlist:  #if sumlist.__contains__(6):\n",
    "        indexOf6 = sumlist.index(6)\n",
    "        # print(indexOf6)\n",
    "        indexOf9 = sumlist.index(9)\n",
    "        # print(indexOf9)\n",
    "        # print(sumlist[:indexOf6] \n",
    "            #   + sumlist[indexOf6:indexOf9+1] \n",
    "            #   + sumlist[indexOf9+1:])\n",
    "        sumlist = sumlist[:indexOf6] + sumlist[indexOf9+1:]\n",
    "    \n",
    "    return sum(sumlist)"
   ]
  },
  {
   "cell_type": "code",
   "execution_count": 83,
   "metadata": {},
   "outputs": [
    {
     "data": {
      "text/plain": [
       "9"
      ]
     },
     "execution_count": 83,
     "metadata": {},
     "output_type": "execute_result"
    }
   ],
   "source": [
    "summer_69([1,3,5])"
   ]
  },
  {
   "cell_type": "code",
   "execution_count": 82,
   "metadata": {},
   "outputs": [
    {
     "data": {
      "text/plain": [
       "9"
      ]
     },
     "execution_count": 82,
     "metadata": {},
     "output_type": "execute_result"
    }
   ],
   "source": [
    "summer_69([4,5,6,7,8,9])"
   ]
  },
  {
   "cell_type": "code",
   "execution_count": 81,
   "metadata": {},
   "outputs": [
    {
     "data": {
      "text/plain": [
       "14"
      ]
     },
     "execution_count": 81,
     "metadata": {},
     "output_type": "execute_result"
    }
   ],
   "source": [
    "summer_69([2,1,6,9,11])"
   ]
  },
  {
   "cell_type": "code",
   "execution_count": 22,
   "metadata": {},
   "outputs": [
    {
     "data": {
      "text/plain": [
       "2"
      ]
     },
     "execution_count": 22,
     "metadata": {},
     "output_type": "execute_result"
    }
   ],
   "source": [
    "[4,5,6,7,8,9].__contains__(6)\n",
    "[4,5,6,7,8,9].index(6)"
   ]
  },
  {
   "cell_type": "code",
   "execution_count": 77,
   "metadata": {},
   "outputs": [],
   "source": [
    "def summer_69(sumlist):\n",
    "    sumofnumbers = 0\n",
    "    ifnumadd = True\n",
    "    for num in sumlist:\n",
    "        if num == 6:\n",
    "            ifnumadd = False\n",
    "        \n",
    "        while ifnumadd:\n",
    "            sumofnumbers += num\n",
    "            break\n",
    "\n",
    "        while not ifnumadd:\n",
    "            \n",
    "            if num == 9:\n",
    "                ifnumadd = True\n",
    "            break\n",
    "\n",
    "        # sumofnumbers += num\n",
    "        \n",
    "    return sumofnumbers"
   ]
  },
  {
   "cell_type": "code",
   "execution_count": 80,
   "metadata": {},
   "outputs": [],
   "source": [
    "def summer_69(sumlist):\n",
    "    sumofnumbers = 0\n",
    "    ifnumadd = True\n",
    "    for num in sumlist:\n",
    "        while ifnumadd:\n",
    "            if num != 6:\n",
    "                sumofnumbers += num\n",
    "                break\n",
    "            else:\n",
    "                ifnumadd = False\n",
    "                \n",
    "\n",
    "        while not ifnumadd:\n",
    "            if num == 9:\n",
    "                ifnumadd = True\n",
    "            break\n",
    "\n",
    "\n",
    "        \n",
    "    return sumofnumbers"
   ]
  },
  {
   "cell_type": "code",
   "execution_count": null,
   "metadata": {},
   "outputs": [],
   "source": []
  },
  {
   "cell_type": "code",
   "execution_count": 24,
   "metadata": {},
   "outputs": [],
   "source": [
    "# Laughter - WAP to count the number of times a given pattern appears in a given string."
   ]
  },
  {
   "cell_type": "code",
   "execution_count": 84,
   "metadata": {},
   "outputs": [],
   "source": [
    "## Challenge problems"
   ]
  },
  {
   "cell_type": "code",
   "execution_count": 85,
   "metadata": {},
   "outputs": [],
   "source": [
    "# spy game\n",
    "# takes list int input\n",
    "# 0, 0, 7 present in order can have items in b/w -> True return"
   ]
  },
  {
   "cell_type": "code",
   "execution_count": 86,
   "metadata": {},
   "outputs": [],
   "source": [
    "# 007 only then this code\n",
    "def spy_game(codelist):\n",
    "    for i in range(0, len(codelist)-2):\n",
    "        if codelist[i] == 0 and codelist[i+1] == 0 and codelist[i+2] == 7:\n",
    "            return True\n",
    "    \n",
    "    return False"
   ]
  },
  {
   "cell_type": "code",
   "execution_count": 113,
   "metadata": {},
   "outputs": [],
   "source": [
    "#actual\n",
    "def spy_game(codelist):\n",
    "    bond = [0,0,7]\n",
    "\n",
    "    ispass = False\n",
    "    for i in range(0,len(bond)):\n",
    "\n",
    "        for x in range(sindexclist,len(codelist)):\n",
    "            if bond[i] == codelist[x]:\n",
    "                sindexclist = x+1\n",
    "                if sindexclist == len(codelist) and i == 2:\n",
    "                    return True\n",
    "                \n",
    "                break\n",
    "\n",
    "    \n",
    "\n",
    "    \n",
    "    return False"
   ]
  },
  {
   "cell_type": "code",
   "execution_count": 115,
   "metadata": {},
   "outputs": [],
   "source": [
    "#actual\n",
    "def spy_game(userlist):\n",
    "    code = [0,0,7,'x']\n",
    "\n",
    "    for num in userlist:\n",
    "        if num == code[0]:\n",
    "            code.pop(0)\n",
    "\n",
    "    # return len(code) == 1\n",
    "    if code[0] == 'x':\n",
    "        return True\n",
    "    else:\n",
    "        return False"
   ]
  },
  {
   "cell_type": "code",
   "execution_count": 116,
   "metadata": {},
   "outputs": [
    {
     "data": {
      "text/plain": [
       "True"
      ]
     },
     "execution_count": 116,
     "metadata": {},
     "output_type": "execute_result"
    }
   ],
   "source": [
    "spy_game([1,2,4,0,0,7,5])"
   ]
  },
  {
   "cell_type": "code",
   "execution_count": 117,
   "metadata": {},
   "outputs": [
    {
     "data": {
      "text/plain": [
       "True"
      ]
     },
     "execution_count": 117,
     "metadata": {},
     "output_type": "execute_result"
    }
   ],
   "source": [
    "spy_game([1,0,2,4,0,5,7])"
   ]
  },
  {
   "cell_type": "code",
   "execution_count": 118,
   "metadata": {},
   "outputs": [
    {
     "data": {
      "text/plain": [
       "False"
      ]
     },
     "execution_count": 118,
     "metadata": {},
     "output_type": "execute_result"
    }
   ],
   "source": [
    "spy_game([1,7,2,0,4,5,0])"
   ]
  },
  {
   "cell_type": "code",
   "execution_count": 119,
   "metadata": {},
   "outputs": [],
   "source": [
    "# count primes upto given number\n",
    "# exclude 0, 1\n",
    "# include given number"
   ]
  },
  {
   "cell_type": "code",
   "execution_count": 131,
   "metadata": {},
   "outputs": [],
   "source": [
    "def count_prime(number):\n",
    "    count = 0\n",
    "    isprime = 1\n",
    "\n",
    "    for num in range(2,number+1):\n",
    "        # print(num)\n",
    "        # prime -> self and 1\n",
    "        for n in range(2,num):\n",
    "            if num%n == 0:\n",
    "                isprime = 0\n",
    "                break\n",
    "        count += isprime\n",
    "        isprime = 1\n",
    "    \n",
    "    return count"
   ]
  },
  {
   "cell_type": "code",
   "execution_count": 132,
   "metadata": {},
   "outputs": [
    {
     "data": {
      "text/plain": [
       "2"
      ]
     },
     "execution_count": 132,
     "metadata": {},
     "output_type": "execute_result"
    }
   ],
   "source": [
    "count_prime(3)"
   ]
  },
  {
   "cell_type": "code",
   "execution_count": 135,
   "metadata": {},
   "outputs": [
    {
     "data": {
      "text/plain": [
       "25"
      ]
     },
     "execution_count": 135,
     "metadata": {},
     "output_type": "execute_result"
    }
   ],
   "source": [
    "count_prime(100)"
   ]
  },
  {
   "cell_type": "code",
   "execution_count": 142,
   "metadata": {},
   "outputs": [],
   "source": [
    "def count_primes(number):\n",
    "\n",
    "    # check for 0 and 1\n",
    "    if number < 2:\n",
    "        return 0\n",
    "    \n",
    "    # 2 or more\n",
    "\n",
    "    primes = [2]\n",
    "\n",
    "    #count for current number tor be checked\n",
    "    x = 3\n",
    "\n",
    "    #iterate all numbers\n",
    "    while x <= number:\n",
    "\n",
    "        #check is f x is prime or not\n",
    "        for i in range(3,x,2):\n",
    "            if x%i == 0:\n",
    "                x += 2 \n",
    "                break\n",
    "        else:\n",
    "            primes.append(x)\n",
    "            x += 2\n",
    "\n",
    "    print(primes)\n",
    "    return len(primes)"
   ]
  },
  {
   "cell_type": "code",
   "execution_count": null,
   "metadata": {},
   "outputs": [],
   "source": [
    "# Note: The else block will NOT be executed if the loop is stopped by a break statement."
   ]
  },
  {
   "cell_type": "code",
   "execution_count": 143,
   "metadata": {},
   "outputs": [
    {
     "name": "stdout",
     "output_type": "stream",
     "text": [
      "[2, 3, 5, 7, 11, 13, 17, 19, 23, 29, 31, 37, 41, 43, 47, 53, 59, 61, 67, 71, 73, 79, 83, 89, 97]\n"
     ]
    },
    {
     "data": {
      "text/plain": [
       "25"
      ]
     },
     "execution_count": 143,
     "metadata": {},
     "output_type": "execute_result"
    }
   ],
   "source": [
    "count_primes(100)"
   ]
  },
  {
   "cell_type": "code",
   "execution_count": null,
   "metadata": {},
   "outputs": [],
   "source": []
  }
 ],
 "metadata": {
  "kernelspec": {
   "display_name": "Python 3",
   "language": "python",
   "name": "python3"
  },
  "language_info": {
   "codemirror_mode": {
    "name": "ipython",
    "version": 3
   },
   "file_extension": ".py",
   "mimetype": "text/x-python",
   "name": "python",
   "nbconvert_exporter": "python",
   "pygments_lexer": "ipython3",
   "version": "3.9.6"
  }
 },
 "nbformat": 4,
 "nbformat_minor": 2
}
