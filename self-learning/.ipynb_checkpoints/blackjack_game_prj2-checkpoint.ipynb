{
 "cells": [
  {
   "cell_type": "code",
   "execution_count": 81,
   "id": "29d9311b-842c-421e-b35a-4d8b04b5d759",
   "metadata": {},
   "outputs": [],
   "source": [
    "# Game Variables\n",
    "\n",
    "import random\n",
    "suits = ('Hearts','Spades','Clubs','Diamonds')\n",
    "ranks = ('Two','Three','Four','Five','Six','Seven','Eight','Nine','Ten','Jack','Queen','King','Ace')\n",
    "values = { 'Two':2, 'Three':3, 'Four':4, 'Five':5, 'Six':6, 'Seven':7, 'Eight':8, 'Nine':9, 'Ten':10, 'Jack':10, 'Queen':10, \n",
    "          'King':10, 'Ace':11}\n",
    "\n",
    "playing = True"
   ]
  },
  {
   "cell_type": "code",
   "execution_count": 82,
   "id": "b1eee890-b9ac-4bd5-8d12-e61c316bb788",
   "metadata": {},
   "outputs": [],
   "source": [
    "# Card class\n",
    "class Card:\n",
    "\n",
    "    def __init__(self, suit, rank):\n",
    "        self.suit = suit\n",
    "        self.rank = rank\n",
    "        self.value = values[rank]\n",
    "\n",
    "    def __str__(self):\n",
    "        return f'Card: {self.rank} of {self.suit}, value : {self.value}'"
   ]
  },
  {
   "cell_type": "code",
   "execution_count": 3,
   "id": "69817c04-b833-41e1-bec7-8d812c0078c9",
   "metadata": {},
   "outputs": [],
   "source": [
    "mycard = Card('Hearts', 'Queen')"
   ]
  },
  {
   "cell_type": "code",
   "execution_count": 4,
   "id": "b23796b5-0727-4377-ad25-1ed30a744358",
   "metadata": {},
   "outputs": [
    {
     "data": {
      "text/plain": [
       "'Hearts'"
      ]
     },
     "execution_count": 4,
     "metadata": {},
     "output_type": "execute_result"
    }
   ],
   "source": [
    "mycard.suit"
   ]
  },
  {
   "cell_type": "code",
   "execution_count": 5,
   "id": "ba9a3941-eba1-4c7b-9247-bdb63c7c7cf7",
   "metadata": {},
   "outputs": [
    {
     "data": {
      "text/plain": [
       "'Queen'"
      ]
     },
     "execution_count": 5,
     "metadata": {},
     "output_type": "execute_result"
    }
   ],
   "source": [
    "mycard.rank"
   ]
  },
  {
   "cell_type": "code",
   "execution_count": 6,
   "id": "0afb05c7-9acf-48fc-bc87-4668224a282a",
   "metadata": {},
   "outputs": [
    {
     "data": {
      "text/plain": [
       "10"
      ]
     },
     "execution_count": 6,
     "metadata": {},
     "output_type": "execute_result"
    }
   ],
   "source": [
    "mycard.value"
   ]
  },
  {
   "cell_type": "code",
   "execution_count": 7,
   "id": "8579b471-5278-49bd-8845-f2c216d1809b",
   "metadata": {},
   "outputs": [
    {
     "name": "stdout",
     "output_type": "stream",
     "text": [
      "Card: Queen of Hearts, value : 10\n"
     ]
    }
   ],
   "source": [
    "print(mycard)"
   ]
  },
  {
   "cell_type": "code",
   "execution_count": 8,
   "id": "865c6ae0-38f8-4157-a7bd-c97a54d3031b",
   "metadata": {},
   "outputs": [
    {
     "name": "stdout",
     "output_type": "stream",
     "text": [
      "Card: Queen of Hearts, value : 10\n"
     ]
    },
    {
     "data": {
      "text/plain": [
       "NoneType"
      ]
     },
     "execution_count": 8,
     "metadata": {},
     "output_type": "execute_result"
    }
   ],
   "source": [
    "type(print(mycard))"
   ]
  },
  {
   "cell_type": "code",
   "execution_count": 83,
   "id": "981237ae-6f4f-4f8f-bb6c-983d19c14de6",
   "metadata": {},
   "outputs": [],
   "source": [
    "# Deck class\n",
    "class Deck:\n",
    "\n",
    "    def __init__(self):\n",
    "        self.all_cards = []\n",
    "\n",
    "        for suit in suits:\n",
    "            for rank in ranks:\n",
    "                created_card = Card(suit, rank)\n",
    "                self.all_cards.append(created_card)\n",
    "\n",
    "\n",
    "    def shuffle_deck(self):\n",
    "        random.shuffle(self.all_cards)\n",
    "\n",
    "    def __str__(self):\n",
    "        deck_comp = ''\n",
    "        for card in self.all_cards:\n",
    "            deck_comp += '\\n' + card.__str__() # can use print(card)???\n",
    "        return f'The deck has : {deck_comp} \\nDeck cards : {len(self.all_cards)} cards'\n",
    "\n",
    "    def deal(self):\n",
    "        return self.all_cards.pop()"
   ]
  },
  {
   "cell_type": "code",
   "execution_count": 10,
   "id": "927973a1-497b-46a4-9860-867b9b004252",
   "metadata": {},
   "outputs": [],
   "source": [
    "mydeck = Deck()"
   ]
  },
  {
   "cell_type": "code",
   "execution_count": 11,
   "id": "5436f25c-1d00-4b0a-839f-499d94625ff8",
   "metadata": {},
   "outputs": [
    {
     "name": "stdout",
     "output_type": "stream",
     "text": [
      "The deck has : \n",
      "Card: Two of Hearts, value : 2\n",
      "Card: Three of Hearts, value : 3\n",
      "Card: Four of Hearts, value : 4\n",
      "Card: Five of Hearts, value : 5\n",
      "Card: Six of Hearts, value : 6\n",
      "Card: Seven of Hearts, value : 7\n",
      "Card: Eight of Hearts, value : 8\n",
      "Card: Nine of Hearts, value : 9\n",
      "Card: Ten of Hearts, value : 10\n",
      "Card: Jack of Hearts, value : 10\n",
      "Card: Queen of Hearts, value : 10\n",
      "Card: King of Hearts, value : 10\n",
      "Card: Ace of Hearts, value : 11\n",
      "Card: Two of Spades, value : 2\n",
      "Card: Three of Spades, value : 3\n",
      "Card: Four of Spades, value : 4\n",
      "Card: Five of Spades, value : 5\n",
      "Card: Six of Spades, value : 6\n",
      "Card: Seven of Spades, value : 7\n",
      "Card: Eight of Spades, value : 8\n",
      "Card: Nine of Spades, value : 9\n",
      "Card: Ten of Spades, value : 10\n",
      "Card: Jack of Spades, value : 10\n",
      "Card: Queen of Spades, value : 10\n",
      "Card: King of Spades, value : 10\n",
      "Card: Ace of Spades, value : 11\n",
      "Card: Two of Clubs, value : 2\n",
      "Card: Three of Clubs, value : 3\n",
      "Card: Four of Clubs, value : 4\n",
      "Card: Five of Clubs, value : 5\n",
      "Card: Six of Clubs, value : 6\n",
      "Card: Seven of Clubs, value : 7\n",
      "Card: Eight of Clubs, value : 8\n",
      "Card: Nine of Clubs, value : 9\n",
      "Card: Ten of Clubs, value : 10\n",
      "Card: Jack of Clubs, value : 10\n",
      "Card: Queen of Clubs, value : 10\n",
      "Card: King of Clubs, value : 10\n",
      "Card: Ace of Clubs, value : 11\n",
      "Card: Two of Diamonds, value : 2\n",
      "Card: Three of Diamonds, value : 3\n",
      "Card: Four of Diamonds, value : 4\n",
      "Card: Five of Diamonds, value : 5\n",
      "Card: Six of Diamonds, value : 6\n",
      "Card: Seven of Diamonds, value : 7\n",
      "Card: Eight of Diamonds, value : 8\n",
      "Card: Nine of Diamonds, value : 9\n",
      "Card: Ten of Diamonds, value : 10\n",
      "Card: Jack of Diamonds, value : 10\n",
      "Card: Queen of Diamonds, value : 10\n",
      "Card: King of Diamonds, value : 10\n",
      "Card: Ace of Diamonds, value : 11 \n",
      "Deck cards : 52 cards\n"
     ]
    }
   ],
   "source": [
    "print(mydeck)"
   ]
  },
  {
   "cell_type": "code",
   "execution_count": 12,
   "id": "73d0e150-cb94-47f6-abfe-85f3ebc6f93d",
   "metadata": {},
   "outputs": [
    {
     "name": "stdout",
     "output_type": "stream",
     "text": [
      "Card: Ace of Diamonds, value : 11\n"
     ]
    }
   ],
   "source": [
    "print(mydeck.all_cards[-1])"
   ]
  },
  {
   "cell_type": "code",
   "execution_count": 13,
   "id": "82f8564c-0433-4350-8a94-03715f299a0a",
   "metadata": {},
   "outputs": [],
   "source": [
    "mydeck.shuffle_deck()"
   ]
  },
  {
   "cell_type": "code",
   "execution_count": 14,
   "id": "278a3442-06c4-4564-bb7b-94ab88e48562",
   "metadata": {},
   "outputs": [
    {
     "name": "stdout",
     "output_type": "stream",
     "text": [
      "Card: Six of Hearts, value : 6\n"
     ]
    }
   ],
   "source": [
    "print(mydeck.all_cards[-1])"
   ]
  },
  {
   "cell_type": "code",
   "execution_count": 15,
   "id": "ab30f87b-8e3d-4245-b75d-265ff51f680b",
   "metadata": {},
   "outputs": [
    {
     "data": {
      "text/plain": [
       "<__main__.Card at 0x7fa640340430>"
      ]
     },
     "execution_count": 15,
     "metadata": {},
     "output_type": "execute_result"
    }
   ],
   "source": [
    "mydeck.deal()"
   ]
  },
  {
   "cell_type": "code",
   "execution_count": 16,
   "id": "cfb7977f-2b1c-484a-a446-98286f4a0064",
   "metadata": {},
   "outputs": [
    {
     "name": "stdout",
     "output_type": "stream",
     "text": [
      "The deck has : \n",
      "Card: Jack of Diamonds, value : 10\n",
      "Card: Five of Hearts, value : 5\n",
      "Card: Nine of Hearts, value : 9\n",
      "Card: Nine of Clubs, value : 9\n",
      "Card: Three of Diamonds, value : 3\n",
      "Card: Jack of Spades, value : 10\n",
      "Card: King of Diamonds, value : 10\n",
      "Card: Eight of Diamonds, value : 8\n",
      "Card: Queen of Spades, value : 10\n",
      "Card: Queen of Clubs, value : 10\n",
      "Card: Two of Diamonds, value : 2\n",
      "Card: Three of Spades, value : 3\n",
      "Card: Ace of Hearts, value : 11\n",
      "Card: Five of Diamonds, value : 5\n",
      "Card: Eight of Hearts, value : 8\n",
      "Card: Two of Spades, value : 2\n",
      "Card: Six of Clubs, value : 6\n",
      "Card: Seven of Hearts, value : 7\n",
      "Card: Four of Diamonds, value : 4\n",
      "Card: Six of Diamonds, value : 6\n",
      "Card: Three of Hearts, value : 3\n",
      "Card: Jack of Clubs, value : 10\n",
      "Card: King of Clubs, value : 10\n",
      "Card: Eight of Spades, value : 8\n",
      "Card: Ten of Diamonds, value : 10\n",
      "Card: Ace of Clubs, value : 11\n",
      "Card: Six of Spades, value : 6\n",
      "Card: Ace of Diamonds, value : 11\n",
      "Card: Four of Clubs, value : 4\n",
      "Card: Five of Spades, value : 5\n",
      "Card: Eight of Clubs, value : 8\n",
      "Card: Seven of Clubs, value : 7\n",
      "Card: Seven of Spades, value : 7\n",
      "Card: Four of Spades, value : 4\n",
      "Card: Five of Clubs, value : 5\n",
      "Card: Two of Hearts, value : 2\n",
      "Card: Three of Clubs, value : 3\n",
      "Card: Nine of Spades, value : 9\n",
      "Card: Seven of Diamonds, value : 7\n",
      "Card: King of Spades, value : 10\n",
      "Card: Queen of Hearts, value : 10\n",
      "Card: Jack of Hearts, value : 10\n",
      "Card: King of Hearts, value : 10\n",
      "Card: Two of Clubs, value : 2\n",
      "Card: Nine of Diamonds, value : 9\n",
      "Card: Queen of Diamonds, value : 10\n",
      "Card: Ace of Spades, value : 11\n",
      "Card: Ten of Hearts, value : 10\n",
      "Card: Ten of Clubs, value : 10\n",
      "Card: Ten of Spades, value : 10\n",
      "Card: Four of Hearts, value : 4 \n",
      "Deck cards : 51 cards\n"
     ]
    }
   ],
   "source": [
    "print(mydeck)"
   ]
  },
  {
   "cell_type": "code",
   "execution_count": null,
   "id": "a5931859-0bf7-4a6d-b124-7b52eb30a433",
   "metadata": {},
   "outputs": [],
   "source": []
  },
  {
   "cell_type": "code",
   "execution_count": null,
   "id": "21026e01-2f08-4e92-ae0b-24aca5a28c72",
   "metadata": {},
   "outputs": [],
   "source": []
  },
  {
   "cell_type": "code",
   "execution_count": 54,
   "id": "7520ff8f-91cc-467b-a5af-7d90645de272",
   "metadata": {},
   "outputs": [],
   "source": [
    "# Hands card\n",
    "# (using for player and dealer)"
   ]
  },
  {
   "cell_type": "code",
   "execution_count": 84,
   "id": "17b3639f-145b-4d37-9cca-6ba6183979a1",
   "metadata": {},
   "outputs": [],
   "source": [
    "class Hand:\n",
    "\n",
    "    def __init__(self):\n",
    "        self.cards = []\n",
    "        self.value = 0\n",
    "        self.aces = 0\n",
    "\n",
    "    def add_card(self, new_card):\n",
    "        self.cards.append(new_card) # new_card is a Card object\n",
    "\n",
    "        # track aces\n",
    "        if new_card.rank == 'Ace':\n",
    "            self.aces += 1\n",
    "            \n",
    "        # for card in self.cards:\n",
    "            # self.value += card.value\n",
    "        self.value += new_card.value\n",
    "\n",
    "    def adjust_for_ace(self):\n",
    "        while self.value > 21 and self.aces:\n",
    "            self.value -= 10\n",
    "            self.aces -= 1\n",
    "\n",
    "            \n",
    "        \n",
    "        # if self.aces > 0:\n",
    "        #     aces_u = 0\n",
    "        #     for ace_i in self.aces:\n",
    "        #         if self.value > 21:\n",
    "        #             self.value -= 10\n",
    "        #             aces_u += 1\n",
    "        #         else:\n",
    "        #             break\n",
    "        #     self.aces -= aces_u\n",
    "        # else:\n",
    "        #     print('No aces present in hand')    \n"
   ]
  },
  {
   "cell_type": "code",
   "execution_count": 40,
   "id": "3f44a4c6-cd6a-4eab-9556-3a4b227b9bb3",
   "metadata": {},
   "outputs": [
    {
     "name": "stdout",
     "output_type": "stream",
     "text": [
      "Card: Eight of Diamonds, value : 8\n",
      "8\n"
     ]
    }
   ],
   "source": [
    "test_deck = Deck()\n",
    "test_deck.shuffle_deck()\n",
    "\n",
    "#Player\n",
    "test_player = Hand()\n",
    "\n",
    "pulled_card = test_deck.deal()\n",
    "print(pulled_card)\n",
    "test_player.add_card(pulled_card)\n",
    "print(test_player.value)"
   ]
  },
  {
   "cell_type": "code",
   "execution_count": 47,
   "id": "e8cdb061-e1bb-467a-8422-4a6ed7fc9eb9",
   "metadata": {},
   "outputs": [],
   "source": [
    "test_player.add_card(test_deck.deal())"
   ]
  },
  {
   "cell_type": "code",
   "execution_count": 48,
   "id": "04d20a27-4861-4e98-8ca2-b5b9d3aab0fb",
   "metadata": {},
   "outputs": [
    {
     "name": "stdout",
     "output_type": "stream",
     "text": [
      "37\n"
     ]
    }
   ],
   "source": [
    "print(test_player.value)"
   ]
  },
  {
   "cell_type": "code",
   "execution_count": null,
   "id": "c5551eda-c094-47ff-9a6b-479c864abaca",
   "metadata": {},
   "outputs": [],
   "source": []
  },
  {
   "cell_type": "code",
   "execution_count": 19,
   "id": "7dbabb65-1042-4558-8935-a988f5828ab9",
   "metadata": {},
   "outputs": [],
   "source": [
    "#Chips"
   ]
  },
  {
   "cell_type": "code",
   "execution_count": 85,
   "id": "93d0a256-1d36-42fe-92b6-2004587d3b10",
   "metadata": {},
   "outputs": [],
   "source": [
    "class Chips:\n",
    "\n",
    "    def __init__(self, total=100):\n",
    "        self.total = total # total amount of chips\n",
    "        self.bet = 0 # user bet\n",
    "\n",
    "    # def user_bet(self, bet):\n",
    "    #     if bet <= self.total:\n",
    "    #         self.bet = bet\n",
    "    #         return True\n",
    "    #     else:\n",
    "    #         print('Invalid bet')\n",
    "    #         return False\n",
    "\n",
    "    def win_bet(self):\n",
    "        self.total += self.bet\n",
    "\n",
    "    def lose_bet(self):\n",
    "        self.total -= self.bet"
   ]
  },
  {
   "cell_type": "code",
   "execution_count": null,
   "id": "bc539675-4751-48b8-bf9a-5ef0fef3e7bc",
   "metadata": {},
   "outputs": [],
   "source": []
  },
  {
   "cell_type": "code",
   "execution_count": 86,
   "id": "4ea266ed-e7d4-49d7-bef3-5e92b80c3a2d",
   "metadata": {},
   "outputs": [],
   "source": [
    "# take bet\n",
    "\n",
    "def take_bet(chips):\n",
    "    while True:\n",
    "        try:\n",
    "            chips.bet = int(input('Please enter the amount to be bet :'))\n",
    "        except ValueError:\n",
    "            print('Please enter valid integer')\n",
    "        else:\n",
    "            if chips.bet > chips.total:\n",
    "                print('Not enough chips. You have {curr_chips} chips'.format(curr_chips = chips.total))\n",
    "            else:\n",
    "                break\n",
    "            \n",
    "    "
   ]
  },
  {
   "cell_type": "code",
   "execution_count": 22,
   "id": "ce0cdf5a-efa3-4cc1-8616-72c094436b18",
   "metadata": {},
   "outputs": [
    {
     "name": "stdin",
     "output_type": "stream",
     "text": [
      "Please enter the amount to be bet : 2\n"
     ]
    }
   ],
   "source": [
    "take_bet()"
   ]
  },
  {
   "cell_type": "code",
   "execution_count": null,
   "id": "b6d42699-1e2e-478f-9257-c5525594819b",
   "metadata": {},
   "outputs": [],
   "source": []
  },
  {
   "cell_type": "code",
   "execution_count": 87,
   "id": "6d8ba368-a02f-426f-83e6-6dda0bb6de62",
   "metadata": {},
   "outputs": [],
   "source": [
    "def hit(deck, hand):\n",
    "    hand.add_card(deck.deal())\n",
    "    hand.adjust_for_ace()"
   ]
  },
  {
   "cell_type": "code",
   "execution_count": 88,
   "id": "f033c20b-d945-46ec-ae7e-8262851952d8",
   "metadata": {},
   "outputs": [],
   "source": [
    "def hit_or_stand(deck, hand):\n",
    "    global playing # to control while loop\n",
    "\n",
    "    while True:\n",
    "        x = input('Hit or Stand? Enter h or s :')\n",
    "        if x[0].lower() == 'h':\n",
    "            hit(deck,hand)\n",
    "        elif x[0].lower() == 's':\n",
    "            print('PLayer Stands. Dealers turn!')\n",
    "            playing = False\n",
    "        else:\n",
    "            print('Invalid input. Enter again.')\n",
    "            continue\n",
    "        break"
   ]
  },
  {
   "cell_type": "code",
   "execution_count": null,
   "id": "16ac7535-3cca-4210-a65b-672b679adea7",
   "metadata": {},
   "outputs": [],
   "source": []
  },
  {
   "cell_type": "code",
   "execution_count": null,
   "id": "57b26e25-1979-46ed-8a36-356584251d8f",
   "metadata": {},
   "outputs": [],
   "source": []
  },
  {
   "cell_type": "code",
   "execution_count": 53,
   "id": "629fd5b9-2a5c-4fc9-aedb-379efa6fb8be",
   "metadata": {},
   "outputs": [],
   "source": [
    "# Display Cards\n",
    "# 1 - Show one card of dealer, and Two cards of Player\n",
    "# 2 - Show all cards"
   ]
  },
  {
   "cell_type": "code",
   "execution_count": 89,
   "id": "10c81bdd-d6a4-4907-a964-915e0f62485f",
   "metadata": {},
   "outputs": [],
   "source": [
    "# 1\n",
    "def show_some(player, dealer):\n",
    "    print(\"\\n*****************\")\n",
    "    \n",
    "    print(\"\\nDealer's Hand:\")\n",
    "    print(\"First Card hidden!!\")\n",
    "    print(dealer.cards[1])\n",
    "    print('Dealer Card Value :' + ' ? + ' + str(dealer.cards[1].value))\n",
    "\n",
    "    print(\"\\nPlayers's Hand:\")\n",
    "    print(player.cards[0])\n",
    "    print(player.cards[1])\n",
    "    print('Player Card Value :' + str(player.value) )\n",
    "\n",
    "\n",
    "# 2\n",
    "def show_all(player, dealer):\n",
    "    print(\"\\n*****************\")\n",
    "    \n",
    "    print(\"\\nDealer's Hand:\")\n",
    "    for card in dealer.cards: \n",
    "        print(card)\n",
    "    print('Dealer Card Value :' + str(dealer.value))\n",
    "\n",
    "    print(\"\\nPlayers's Hand:\")\n",
    "    print(*player.cards,sep='\\n')\n",
    "    # for card in player.cards: \n",
    "        # print(card)\n",
    "    print('Player Card Value :' + str(player.value) )\n",
    "    "
   ]
  },
  {
   "cell_type": "code",
   "execution_count": 65,
   "id": "f6df8638-34a5-4193-af28-25988686a5cd",
   "metadata": {},
   "outputs": [
    {
     "name": "stdout",
     "output_type": "stream",
     "text": [
      "[1, 2, 3, 4, 5]\n",
      "Items are :\n",
      "Val:1\n",
      "Val:2\n",
      "Val:3\n",
      "Val:4\n",
      "Val:5\n",
      "1\n",
      "V:2\n",
      "V:3\n",
      "V:4\n",
      "V:5\n"
     ]
    }
   ],
   "source": [
    "# test\n",
    "items = [1,2,3,4,5]\n",
    "print(items)\n",
    "print(\"Items are :\",*items, sep = '\\nVal:')\n",
    "print(*items, sep = '\\nV:')"
   ]
  },
  {
   "cell_type": "code",
   "execution_count": 66,
   "id": "583a0d68-f071-470c-aa39-5961681df3e5",
   "metadata": {},
   "outputs": [
    {
     "name": "stdout",
     "output_type": "stream",
     "text": [
      "<class 'list'>\n"
     ]
    },
    {
     "ename": "TypeError",
     "evalue": "type() takes 1 or 3 arguments",
     "output_type": "error",
     "traceback": [
      "\u001b[0;31m---------------------------------------------------------------------------\u001b[0m",
      "\u001b[0;31mTypeError\u001b[0m                                 Traceback (most recent call last)",
      "Cell \u001b[0;32mIn[66], line 2\u001b[0m\n\u001b[1;32m      1\u001b[0m \u001b[38;5;28mprint\u001b[39m(\u001b[38;5;28mtype\u001b[39m(items))\n\u001b[0;32m----> 2\u001b[0m \u001b[38;5;28mprint\u001b[39m(\u001b[38;5;28;43mtype\u001b[39;49m\u001b[43m(\u001b[49m\u001b[38;5;241;43m*\u001b[39;49m\u001b[43mitems\u001b[49m\u001b[43m)\u001b[49m)\n",
      "\u001b[0;31mTypeError\u001b[0m: type() takes 1 or 3 arguments"
     ]
    }
   ],
   "source": [
    "print(type(items))\n",
    "print(type(*items))"
   ]
  },
  {
   "cell_type": "code",
   "execution_count": null,
   "id": "15b0632a-bace-4798-8352-9ab9c2b9a697",
   "metadata": {},
   "outputs": [],
   "source": []
  },
  {
   "cell_type": "code",
   "execution_count": null,
   "id": "3418a5de-4a12-43f3-8383-54cef461bfbf",
   "metadata": {},
   "outputs": [],
   "source": []
  },
  {
   "cell_type": "code",
   "execution_count": 90,
   "id": "5d7e4e51-d359-4584-b3ea-87e917883402",
   "metadata": {},
   "outputs": [],
   "source": [
    "# end of game scenarios\n",
    "\n",
    "def player_busts(player, dealer, chips):\n",
    "    print(\"BUST PLAYER!\")\n",
    "    chips.lose_bet()\n",
    "\n",
    "def player_wins(player, dealer, chips):\n",
    "    print(\"WIN PLAYER!\")\n",
    "    chips.win_bet()\n",
    "\n",
    "def dealer_busts(player, dealer, chips):\n",
    "    print(\"BUST DEALER! PLAYER WIN!\")\n",
    "    chips.win_bet()\n",
    "\n",
    "def dealer_wins(player, dealer, chips):\n",
    "    print(\"WIN DEALER! PLAYER LOSE!\")\n",
    "    chips.lose_bet()\n",
    "\n",
    "def push(player, dealer):\n",
    "    print('Dealer and Player tie. PUSH !')"
   ]
  },
  {
   "cell_type": "code",
   "execution_count": null,
   "id": "9c5f6e8c-155a-4db6-b403-41a000992529",
   "metadata": {},
   "outputs": [],
   "source": []
  },
  {
   "cell_type": "code",
   "execution_count": 68,
   "id": "58dc6f60-c5b1-4998-ad1b-4701a1dc04bd",
   "metadata": {},
   "outputs": [],
   "source": [
    "# GAME LOGIC"
   ]
  },
  {
   "cell_type": "code",
   "execution_count": 93,
   "id": "aeec99d4-4f06-4eb2-b217-6d0804e6fc18",
   "metadata": {},
   "outputs": [
    {
     "name": "stdout",
     "output_type": "stream",
     "text": [
      "** WELCOME TO BLACKJACK ! **\n"
     ]
    },
    {
     "name": "stdin",
     "output_type": "stream",
     "text": [
      "Please enter the amount to be bet : 100\n"
     ]
    },
    {
     "name": "stdout",
     "output_type": "stream",
     "text": [
      "\n",
      "*****************\n",
      "\n",
      "Dealer's Hand:\n",
      "First Card hidden!!\n",
      "Card: Ten of Diamonds, value : 10\n",
      "Dealer Card Value : ? + 10\n",
      "\n",
      "Players's Hand:\n",
      "Card: King of Diamonds, value : 10\n",
      "Card: Eight of Hearts, value : 8\n",
      "Player Card Value :18\n"
     ]
    },
    {
     "name": "stdin",
     "output_type": "stream",
     "text": [
      "Hit or Stand? Enter h or s : h\n"
     ]
    },
    {
     "name": "stdout",
     "output_type": "stream",
     "text": [
      "\n",
      "*****************\n",
      "\n",
      "Dealer's Hand:\n",
      "First Card hidden!!\n",
      "Card: Ten of Diamonds, value : 10\n",
      "Dealer Card Value : ? + 10\n",
      "\n",
      "Players's Hand:\n",
      "Card: King of Diamonds, value : 10\n",
      "Card: Eight of Hearts, value : 8\n",
      "Player Card Value :27\n",
      "BUST PLAYER!\n",
      "Player total chips: 0\n"
     ]
    },
    {
     "name": "stdin",
     "output_type": "stream",
     "text": [
      "Play again? y/n y\n"
     ]
    },
    {
     "name": "stdout",
     "output_type": "stream",
     "text": [
      "** WELCOME TO BLACKJACK ! **\n"
     ]
    },
    {
     "name": "stdin",
     "output_type": "stream",
     "text": [
      "Please enter the amount to be bet : 100\n"
     ]
    },
    {
     "name": "stdout",
     "output_type": "stream",
     "text": [
      "\n",
      "*****************\n",
      "\n",
      "Dealer's Hand:\n",
      "First Card hidden!!\n",
      "Card: Seven of Spades, value : 7\n",
      "Dealer Card Value : ? + 7\n",
      "\n",
      "Players's Hand:\n",
      "Card: Two of Hearts, value : 2\n",
      "Card: Ten of Spades, value : 10\n",
      "Player Card Value :12\n"
     ]
    },
    {
     "name": "stdin",
     "output_type": "stream",
     "text": [
      "Hit or Stand? Enter h or s : h\n"
     ]
    },
    {
     "name": "stdout",
     "output_type": "stream",
     "text": [
      "\n",
      "*****************\n",
      "\n",
      "Dealer's Hand:\n",
      "First Card hidden!!\n",
      "Card: Seven of Spades, value : 7\n",
      "Dealer Card Value : ? + 7\n",
      "\n",
      "Players's Hand:\n",
      "Card: Two of Hearts, value : 2\n",
      "Card: Ten of Spades, value : 10\n",
      "Player Card Value :14\n"
     ]
    },
    {
     "name": "stdin",
     "output_type": "stream",
     "text": [
      "Hit or Stand? Enter h or s : h\n"
     ]
    },
    {
     "name": "stdout",
     "output_type": "stream",
     "text": [
      "\n",
      "*****************\n",
      "\n",
      "Dealer's Hand:\n",
      "First Card hidden!!\n",
      "Card: Seven of Spades, value : 7\n",
      "Dealer Card Value : ? + 7\n",
      "\n",
      "Players's Hand:\n",
      "Card: Two of Hearts, value : 2\n",
      "Card: Ten of Spades, value : 10\n",
      "Player Card Value :24\n",
      "BUST PLAYER!\n",
      "Player total chips: 0\n"
     ]
    },
    {
     "name": "stdin",
     "output_type": "stream",
     "text": [
      "Play again? y/n y\n"
     ]
    },
    {
     "name": "stdout",
     "output_type": "stream",
     "text": [
      "** WELCOME TO BLACKJACK ! **\n"
     ]
    },
    {
     "name": "stdin",
     "output_type": "stream",
     "text": [
      "Please enter the amount to be bet : 100\n"
     ]
    },
    {
     "name": "stdout",
     "output_type": "stream",
     "text": [
      "\n",
      "*****************\n",
      "\n",
      "Dealer's Hand:\n",
      "First Card hidden!!\n",
      "Card: Five of Spades, value : 5\n",
      "Dealer Card Value : ? + 5\n",
      "\n",
      "Players's Hand:\n",
      "Card: Eight of Hearts, value : 8\n",
      "Card: Nine of Diamonds, value : 9\n",
      "Player Card Value :17\n"
     ]
    },
    {
     "name": "stdin",
     "output_type": "stream",
     "text": [
      "Hit or Stand? Enter h or s : h\n"
     ]
    },
    {
     "name": "stdout",
     "output_type": "stream",
     "text": [
      "\n",
      "*****************\n",
      "\n",
      "Dealer's Hand:\n",
      "First Card hidden!!\n",
      "Card: Five of Spades, value : 5\n",
      "Dealer Card Value : ? + 5\n",
      "\n",
      "Players's Hand:\n",
      "Card: Eight of Hearts, value : 8\n",
      "Card: Nine of Diamonds, value : 9\n",
      "Player Card Value :22\n",
      "BUST PLAYER!\n",
      "Player total chips: 0\n"
     ]
    },
    {
     "name": "stdin",
     "output_type": "stream",
     "text": [
      "Play again? y/n n\n"
     ]
    },
    {
     "name": "stdout",
     "output_type": "stream",
     "text": [
      "THANK YOU!!!\n"
     ]
    }
   ],
   "source": [
    "while True:\n",
    "    # Opening statement\n",
    "    print('** WELCOME TO BLACKJACK ! **')\n",
    "\n",
    "    # CREATE AND SHUFFLE DECK\n",
    "    deck = Deck()\n",
    "    deck.shuffle_deck()\n",
    "\n",
    "    # deal first hands\n",
    "    player_hand = Hand()\n",
    "    player_hand.add_card(deck.deal())\n",
    "    player_hand.add_card(deck.deal())\n",
    "\n",
    "    dealer_hand = Hand()\n",
    "    dealer_hand.add_card(deck.deal())\n",
    "    dealer_hand.add_card(deck.deal())\n",
    "\n",
    "    # Setup player chips data\n",
    "    player_chips = Chips()\n",
    "\n",
    "    # Bet for player\n",
    "    take_bet(player_chips)\n",
    "\n",
    "    # Show cards first leg\n",
    "    show_some(player_hand, dealer_hand)\n",
    "\n",
    "    while playing:\n",
    "        hit_or_stand(deck, player_hand)\n",
    "        show_some(player_hand, dealer_hand)\n",
    "\n",
    "        if player_hand.value > 21:\n",
    "            player_busts(player_hand, dealer_hand, player_chips)\n",
    "            break\n",
    "\n",
    "\n",
    "\n",
    "    if player_hand.value <= 21:\n",
    "\n",
    "        while dealer_hand.value < player_hand.value: #17:\n",
    "            hit(deck, dealer_hand)\n",
    "\n",
    "        show_all(player_hand, dealer_hand)\n",
    "\n",
    "        if dealer_hand.value > 21:\n",
    "            dealer_busts(player_hand, dealer_hand, player_chips)\n",
    "        elif dealer_hand.value > player_hand.value:\n",
    "            dealer_wins(player_hand, dealer_hand, player_chips)\n",
    "        elif dealer_hand.value < player_hand.value:\n",
    "            player_wins(player_hand, dealer_hand, player_chips)\n",
    "        else:\n",
    "            push(player_hand, dealer_hand)\n",
    "\n",
    "    playing = True\n",
    "    print('Player total chips: {}'.format(player_chips.total))\n",
    "\n",
    "    new_game = input(\"Play again? y/n\")\n",
    "\n",
    "    if new_game[0].lower() == 'y':\n",
    "        continue\n",
    "    else:\n",
    "        print('THANK YOU!!!')\n",
    "        break\n"
   ]
  },
  {
   "cell_type": "code",
   "execution_count": null,
   "id": "570715c3-70ab-4d3b-9443-32a04e07bda0",
   "metadata": {},
   "outputs": [],
   "source": []
  }
 ],
 "metadata": {
  "kernelspec": {
   "display_name": "Python 3 (ipykernel)",
   "language": "python",
   "name": "python3"
  },
  "language_info": {
   "codemirror_mode": {
    "name": "ipython",
    "version": 3
   },
   "file_extension": ".py",
   "mimetype": "text/x-python",
   "name": "python",
   "nbconvert_exporter": "python",
   "pygments_lexer": "ipython3",
   "version": "3.10.12"
  }
 },
 "nbformat": 4,
 "nbformat_minor": 5
}
