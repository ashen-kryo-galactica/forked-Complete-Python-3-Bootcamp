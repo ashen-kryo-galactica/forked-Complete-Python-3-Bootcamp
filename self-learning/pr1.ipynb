{
 "cells": [
  {
   "cell_type": "code",
   "execution_count": null,
   "metadata": {},
   "outputs": [],
   "source": [
    "# tic tac toe"
   ]
  },
  {
   "cell_type": "code",
   "execution_count": null,
   "metadata": {},
   "outputs": [],
   "source": [
    "# runner code\n",
    "\n",
    "# Repeat if gaming\n",
    "# Begin game\n",
    "\n",
    "# Ask player 1 to choose X or O - choose_symbol()\n",
    "\n",
    "# Start game\n",
    "# DISPLAY GAME - display_game(current_board)\n",
    "\n",
    "# Loop until one wins the game\n",
    "    # Ask Player 1 for position\n",
    "    # Print the current game - display_game(current_board)\n",
    "    # Check for win\n",
    "    # Ask p2 for position\n",
    "    # Print the current game - display_game(current_board)\n",
    "    # Check for win\n",
    "\n",
    "# Continue game?\n"
   ]
  },
  {
   "cell_type": "code",
   "execution_count": 3,
   "metadata": {},
   "outputs": [],
   "source": [
    "# current_board = ['#',' ',' ',' ',' ',' ',' ',' ',' ',' ']"
   ]
  },
  {
   "cell_type": "code",
   "execution_count": 15,
   "metadata": {},
   "outputs": [],
   "source": [
    "# display_game(current_board)\n",
    "# this function is used to display the current tic tac toe board\n",
    "# used at the begining to display the board\n",
    "# and display board when player inputs in a position\n",
    "from IPython.display import clear_output\n",
    "def display_game(current_board):\n",
    "    clear_output()\n",
    "    print(f' {current_board[7]} | {current_board[8]} | {current_board[9]} ')\n",
    "    print('---|---|---')\n",
    "    print(f' {current_board[4]} | {current_board[5]} | {current_board[6]} ')\n",
    "    print('---|---|---')\n",
    "    print(f' {current_board[1]} | {current_board[2]} | {current_board[3]} ')"
   ]
  },
  {
   "cell_type": "code",
   "execution_count": 6,
   "metadata": {},
   "outputs": [
    {
     "name": "stdout",
     "output_type": "stream",
     "text": [
      "   |   |   \n",
      "---|---|---\n",
      "   |   |   \n",
      "---|---|---\n",
      " X |   | X \n"
     ]
    }
   ],
   "source": [
    "# current_board = ['#','X',' ','X',' ',' ',' ',' ',' ',' ']\n",
    "# display_game(current_board)"
   ]
  },
  {
   "cell_type": "code",
   "execution_count": 4,
   "metadata": {},
   "outputs": [],
   "source": [
    "# choose_symbol()\n",
    "# this function is used to choose symbol for player 1\n",
    "def choose_symbol():\n",
    "    choice = 'wrong choice'\n",
    "    while choice not in ['X','O']:\n",
    "        choice = input('Hey Player 1, please choose your warrior (X or O): ')\n",
    "\n",
    "        if choice not in ['X','O']:\n",
    "            print('Please choose a valid input - X or O.')\n",
    "\n",
    "    print(f'Player 1 has choosen : {choice}')\n",
    "    return choice"
   ]
  },
  {
   "cell_type": "code",
   "execution_count": 8,
   "metadata": {},
   "outputs": [
    {
     "name": "stdout",
     "output_type": "stream",
     "text": [
      "Please choose a valid input - X or O.\n",
      "Please choose a valid input - X or O.\n",
      "Player 1 has choosen : O\n"
     ]
    },
    {
     "data": {
      "text/plain": [
       "'O'"
      ]
     },
     "execution_count": 8,
     "metadata": {},
     "output_type": "execute_result"
    }
   ],
   "source": [
    "# choose_symbol()"
   ]
  },
  {
   "cell_type": "code",
   "execution_count": 5,
   "metadata": {},
   "outputs": [],
   "source": [
    "# choose_input_position(player)\n",
    "# this function is used to choose input position\n",
    "def choose_input_position(player, current_board):\n",
    "    position = 'wrong'\n",
    "    acceptable_position = range(1,10)\n",
    "    iswithinrange = False\n",
    "\n",
    "    print(f'POSITION SELECTION for PLAYER : {player}')\n",
    "    while (not position.isdigit()) or (not iswithinrange):\n",
    "        position = input('Please enter a position for 1-9: ')\n",
    "\n",
    "        if not position.isdigit():\n",
    "            print('Please enter a digit.')\n",
    "        else:\n",
    "            if int(position) not in acceptable_position:\n",
    "                print('Digit is not within range.')\n",
    "            elif current_board[int(position)] != ' ':\n",
    "                print('Position already taken up')\n",
    "            else:\n",
    "                iswithinrange = True\n",
    "\n",
    "    return player, int(position)\n"
   ]
  },
  {
   "cell_type": "code",
   "execution_count": null,
   "metadata": {},
   "outputs": [],
   "source": [
    "# choose_input_position('P1')"
   ]
  },
  {
   "cell_type": "code",
   "execution_count": 6,
   "metadata": {},
   "outputs": [],
   "source": [
    "# input_symbol_in_board(current_board, position, symbol)\n",
    "# input the selected position onto the game board\n",
    "def input_symbol_in_board(current_board, position, symbol):\n",
    "    current_board[position] = symbol\n",
    "\n",
    "    return current_board"
   ]
  },
  {
   "cell_type": "code",
   "execution_count": null,
   "metadata": {},
   "outputs": [],
   "source": [
    "# input_symbol_in_board(current_board,1,'s')"
   ]
  },
  {
   "cell_type": "code",
   "execution_count": 7,
   "metadata": {},
   "outputs": [],
   "source": [
    "# check_winner(current_board)\n",
    "# this function is used to check if anyone is winner\n",
    "def check_winner(current_board):\n",
    "\n",
    "    winner_lines = [[1,2,3],[4,5,6],[7,8,9],[1,4,7],[2,5,8],[3,6,9],[1,5,9],[3,5,7]]\n",
    "    # winner_lines = [[2,4,6],[5,7,9],[7,8,9],[1,4,7],[2,5,8],[3,6,9],[1,5,9],[3,5,7]]\n",
    "\n",
    "    for w_line in winner_lines:\n",
    "        if (current_board[w_line[0]] == current_board[w_line[1]] == current_board[w_line[2]] \n",
    "            and current_board[w_line[0]] != ' '):\n",
    "            print(f'The winner is {current_board[w_line[0]]}')\n",
    "            return True\n",
    "    \n",
    "    return False\n",
    "    "
   ]
  },
  {
   "cell_type": "code",
   "execution_count": 29,
   "metadata": {},
   "outputs": [],
   "source": [
    "current_board = ['#','x','x',' ','x',' ',' ',' ',' ',' ']"
   ]
  },
  {
   "cell_type": "code",
   "execution_count": 30,
   "metadata": {},
   "outputs": [
    {
     "data": {
      "text/plain": [
       "False"
      ]
     },
     "execution_count": 30,
     "metadata": {},
     "output_type": "execute_result"
    }
   ],
   "source": [
    "check_winner(current_board)"
   ]
  },
  {
   "cell_type": "code",
   "execution_count": null,
   "metadata": {},
   "outputs": [],
   "source": []
  },
  {
   "cell_type": "code",
   "execution_count": 17,
   "metadata": {},
   "outputs": [],
   "source": [
    "# gameon()\n",
    "# whether to continue the game or not\n",
    "def gameon():\n",
    "\n",
    "    choice = 'wrong'\n",
    "\n",
    "    while choice not in ['Y', 'N']:\n",
    "        choice = input('Do you want to continue? (Y or N): ')\n",
    "\n",
    "        if choice not in ['Y', 'N']:\n",
    "            print('Please enter Y or N.')\n",
    "\n",
    "    return choice"
   ]
  },
  {
   "cell_type": "code",
   "execution_count": null,
   "metadata": {},
   "outputs": [],
   "source": [
    "# input_symbol_in_board(current_board,1,'s')"
   ]
  },
  {
   "cell_type": "code",
   "execution_count": 18,
   "metadata": {},
   "outputs": [],
   "source": [
    "# playgame(player1_s,player2_s,current_board)\n",
    "# this function is used to play the game between player 1 and 2, till there is any winner\n",
    "def playgame (player1_s,player2_s,current_board):\n",
    "    players = [player1_s,player2_s]\n",
    "    current_player = player1_s\n",
    "    count = 0\n",
    "    while count < 9:\n",
    "        symbol, position = choose_input_position(current_player, current_board)\n",
    "        current_board = input_symbol_in_board(current_board,position,symbol)\n",
    "        display_game(current_board)\n",
    "        if check_winner(current_board):\n",
    "            return current_player, current_board\n",
    "        \n",
    "        current_player = [player for player in players if player != current_player][0]\n",
    "        count += 1\n",
    "    print('Its a tie!!!')\n",
    "    return current_player, current_board"
   ]
  },
  {
   "cell_type": "code",
   "execution_count": null,
   "metadata": {},
   "outputs": [],
   "source": [
    "playgame('x','o',current_board)"
   ]
  },
  {
   "cell_type": "code",
   "execution_count": 16,
   "metadata": {},
   "outputs": [
    {
     "name": "stdout",
     "output_type": "stream",
     "text": [
      " X |   |   \n",
      "---|---|---\n",
      " O | X | O \n",
      "---|---|---\n",
      " X | O | X \n",
      "The winner is X\n",
      "Winner is player with symbol - X\n"
     ]
    }
   ],
   "source": [
    "current_board = ['#',' ',' ',' ',' ',' ',' ',' ',' ',' ']\n",
    "continue_game = 'Y'\n",
    "\n",
    "\n",
    "#begin game\n",
    "while continue_game == 'Y':\n",
    "    display_game(current_board)\n",
    "\n",
    "    player1_s = choose_symbol()\n",
    "    player2_s = [symbol for symbol in ['X', 'O'] if player1_s != symbol][0]\n",
    "\n",
    "    winner_player, current_board = playgame(player1_s,player2_s,current_board)\n",
    "\n",
    "    print(f'Winner is player with symbol - {winner_player}')\n",
    "    \n",
    "    continue_game = gameon()\n",
    "    "
   ]
  },
  {
   "cell_type": "code",
   "execution_count": null,
   "metadata": {},
   "outputs": [],
   "source": []
  }
 ],
 "metadata": {
  "kernelspec": {
   "display_name": "Python 3",
   "language": "python",
   "name": "python3"
  },
  "language_info": {
   "codemirror_mode": {
    "name": "ipython",
    "version": 3
   },
   "file_extension": ".py",
   "mimetype": "text/x-python",
   "name": "python",
   "nbconvert_exporter": "python",
   "pygments_lexer": "ipython3",
   "version": "3.9.6"
  }
 },
 "nbformat": 4,
 "nbformat_minor": 2
}
