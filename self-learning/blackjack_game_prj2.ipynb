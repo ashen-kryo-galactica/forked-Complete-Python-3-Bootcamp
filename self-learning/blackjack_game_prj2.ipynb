{
 "cells": [
  {
   "cell_type": "code",
   "execution_count": 11,
   "id": "29d9311b-842c-421e-b35a-4d8b04b5d759",
   "metadata": {},
   "outputs": [],
   "source": [
    "# Game Variables\n",
    "\n",
    "import random\n",
    "suits = ('Hearts','Spades','Clubs','Diamonds')\n",
    "ranks = ('Two','Three','Four','Five','Six','Seven','Eight','Nine','Ten','Jack','Queen','King','Ace')\n",
    "values = { 'Two':2, 'Three':3, 'Four':4, 'Five':5, 'Six':6, 'Seven':7, 'Eight':8, 'Nine':9, 'Ten':10, 'Jack':10, 'Queen':10, \n",
    "          'King':10, 'Ace':11}\n",
    "\n",
    "playing = True"
   ]
  },
  {
   "cell_type": "code",
   "execution_count": 12,
   "id": "b1eee890-b9ac-4bd5-8d12-e61c316bb788",
   "metadata": {},
   "outputs": [],
   "source": [
    "# Card class\n",
    "class Card:\n",
    "\n",
    "    def __init__(self, suit, rank):\n",
    "        self.suit = suit\n",
    "        self.rank = rank\n",
    "        self.value = values[rank]\n",
    "\n",
    "    def __str__(self):\n",
    "        return f'Card: {self.rank} of {self.suit}, value : {self.value}'"
   ]
  },
  {
   "cell_type": "code",
   "execution_count": 13,
   "id": "69817c04-b833-41e1-bec7-8d812c0078c9",
   "metadata": {},
   "outputs": [],
   "source": [
    "mycard = Card('Hearts', 'Queen')"
   ]
  },
  {
   "cell_type": "code",
   "execution_count": 14,
   "id": "b23796b5-0727-4377-ad25-1ed30a744358",
   "metadata": {},
   "outputs": [
    {
     "data": {
      "text/plain": [
       "'Hearts'"
      ]
     },
     "execution_count": 14,
     "metadata": {},
     "output_type": "execute_result"
    }
   ],
   "source": [
    "mycard.suit"
   ]
  },
  {
   "cell_type": "code",
   "execution_count": 15,
   "id": "ba9a3941-eba1-4c7b-9247-bdb63c7c7cf7",
   "metadata": {},
   "outputs": [
    {
     "data": {
      "text/plain": [
       "'Queen'"
      ]
     },
     "execution_count": 15,
     "metadata": {},
     "output_type": "execute_result"
    }
   ],
   "source": [
    "mycard.rank"
   ]
  },
  {
   "cell_type": "code",
   "execution_count": 16,
   "id": "0afb05c7-9acf-48fc-bc87-4668224a282a",
   "metadata": {},
   "outputs": [
    {
     "data": {
      "text/plain": [
       "10"
      ]
     },
     "execution_count": 16,
     "metadata": {},
     "output_type": "execute_result"
    }
   ],
   "source": [
    "mycard.value"
   ]
  },
  {
   "cell_type": "code",
   "execution_count": 17,
   "id": "8579b471-5278-49bd-8845-f2c216d1809b",
   "metadata": {},
   "outputs": [
    {
     "name": "stdout",
     "output_type": "stream",
     "text": [
      "Card: Queen of Hearts, value : 10\n"
     ]
    }
   ],
   "source": [
    "print(mycard)"
   ]
  },
  {
   "cell_type": "code",
   "execution_count": 28,
   "id": "865c6ae0-38f8-4157-a7bd-c97a54d3031b",
   "metadata": {},
   "outputs": [
    {
     "name": "stdout",
     "output_type": "stream",
     "text": [
      "Card: Queen of Hearts, value : 10\n"
     ]
    },
    {
     "data": {
      "text/plain": [
       "NoneType"
      ]
     },
     "execution_count": 28,
     "metadata": {},
     "output_type": "execute_result"
    }
   ],
   "source": [
    "type(print(mycard))"
   ]
  },
  {
   "cell_type": "code",
   "execution_count": 32,
   "id": "981237ae-6f4f-4f8f-bb6c-983d19c14de6",
   "metadata": {},
   "outputs": [],
   "source": [
    "# Deck class\n",
    "class Deck:\n",
    "\n",
    "    def __init__(self):\n",
    "        self.all_cards = []\n",
    "\n",
    "        for suit in suits:\n",
    "            for rank in ranks:\n",
    "                created_card = Card(suit, rank)\n",
    "                self.all_cards.append(created_card)\n",
    "\n",
    "\n",
    "    def shuffle_deck(self):\n",
    "        random.shuffle(self.all_cards)\n",
    "\n",
    "    def __str__(self):\n",
    "        deck_comp = ''\n",
    "        for card in self.all_cards:\n",
    "            deck_comp += '\\n' + card.__str__() # can use print(card)???\n",
    "        return f'The deck has : {deck_comp} \\nDeck cards : {len(self.all_cards)} cards'\n",
    "\n",
    "    def deal(self):\n",
    "        return self.all_cards.pop()"
   ]
  },
  {
   "cell_type": "code",
   "execution_count": 33,
   "id": "927973a1-497b-46a4-9860-867b9b004252",
   "metadata": {},
   "outputs": [],
   "source": [
    "mydeck = Deck()"
   ]
  },
  {
   "cell_type": "code",
   "execution_count": 34,
   "id": "5436f25c-1d00-4b0a-839f-499d94625ff8",
   "metadata": {},
   "outputs": [
    {
     "name": "stdout",
     "output_type": "stream",
     "text": [
      "The deck has : \n",
      "Card: Two of Hearts, value : 2\n",
      "Card: Three of Hearts, value : 3\n",
      "Card: Four of Hearts, value : 4\n",
      "Card: Five of Hearts, value : 5\n",
      "Card: Six of Hearts, value : 6\n",
      "Card: Seven of Hearts, value : 7\n",
      "Card: Eight of Hearts, value : 8\n",
      "Card: Nine of Hearts, value : 9\n",
      "Card: Ten of Hearts, value : 10\n",
      "Card: Jack of Hearts, value : 10\n",
      "Card: Queen of Hearts, value : 10\n",
      "Card: King of Hearts, value : 10\n",
      "Card: Ace of Hearts, value : 11\n",
      "Card: Two of Spades, value : 2\n",
      "Card: Three of Spades, value : 3\n",
      "Card: Four of Spades, value : 4\n",
      "Card: Five of Spades, value : 5\n",
      "Card: Six of Spades, value : 6\n",
      "Card: Seven of Spades, value : 7\n",
      "Card: Eight of Spades, value : 8\n",
      "Card: Nine of Spades, value : 9\n",
      "Card: Ten of Spades, value : 10\n",
      "Card: Jack of Spades, value : 10\n",
      "Card: Queen of Spades, value : 10\n",
      "Card: King of Spades, value : 10\n",
      "Card: Ace of Spades, value : 11\n",
      "Card: Two of Clubs, value : 2\n",
      "Card: Three of Clubs, value : 3\n",
      "Card: Four of Clubs, value : 4\n",
      "Card: Five of Clubs, value : 5\n",
      "Card: Six of Clubs, value : 6\n",
      "Card: Seven of Clubs, value : 7\n",
      "Card: Eight of Clubs, value : 8\n",
      "Card: Nine of Clubs, value : 9\n",
      "Card: Ten of Clubs, value : 10\n",
      "Card: Jack of Clubs, value : 10\n",
      "Card: Queen of Clubs, value : 10\n",
      "Card: King of Clubs, value : 10\n",
      "Card: Ace of Clubs, value : 11\n",
      "Card: Two of Diamonds, value : 2\n",
      "Card: Three of Diamonds, value : 3\n",
      "Card: Four of Diamonds, value : 4\n",
      "Card: Five of Diamonds, value : 5\n",
      "Card: Six of Diamonds, value : 6\n",
      "Card: Seven of Diamonds, value : 7\n",
      "Card: Eight of Diamonds, value : 8\n",
      "Card: Nine of Diamonds, value : 9\n",
      "Card: Ten of Diamonds, value : 10\n",
      "Card: Jack of Diamonds, value : 10\n",
      "Card: Queen of Diamonds, value : 10\n",
      "Card: King of Diamonds, value : 10\n",
      "Card: Ace of Diamonds, value : 11 \n",
      "Deck cards : 52 cards\n"
     ]
    }
   ],
   "source": [
    "print(mydeck)"
   ]
  },
  {
   "cell_type": "code",
   "execution_count": 35,
   "id": "73d0e150-cb94-47f6-abfe-85f3ebc6f93d",
   "metadata": {},
   "outputs": [
    {
     "name": "stdout",
     "output_type": "stream",
     "text": [
      "Card: Ace of Diamonds, value : 11\n"
     ]
    }
   ],
   "source": [
    "print(mydeck.all_cards[-1])"
   ]
  },
  {
   "cell_type": "code",
   "execution_count": 36,
   "id": "82f8564c-0433-4350-8a94-03715f299a0a",
   "metadata": {},
   "outputs": [],
   "source": [
    "mydeck.shuffle_deck()"
   ]
  },
  {
   "cell_type": "code",
   "execution_count": 37,
   "id": "278a3442-06c4-4564-bb7b-94ab88e48562",
   "metadata": {},
   "outputs": [
    {
     "name": "stdout",
     "output_type": "stream",
     "text": [
      "Card: Four of Hearts, value : 4\n"
     ]
    }
   ],
   "source": [
    "print(mydeck.all_cards[-1])"
   ]
  },
  {
   "cell_type": "code",
   "execution_count": 38,
   "id": "ab30f87b-8e3d-4245-b75d-265ff51f680b",
   "metadata": {},
   "outputs": [
    {
     "data": {
      "text/plain": [
       "<__main__.Card at 0x7f803012e4a0>"
      ]
     },
     "execution_count": 38,
     "metadata": {},
     "output_type": "execute_result"
    }
   ],
   "source": [
    "mydeck.deal()"
   ]
  },
  {
   "cell_type": "code",
   "execution_count": 39,
   "id": "cfb7977f-2b1c-484a-a446-98286f4a0064",
   "metadata": {},
   "outputs": [
    {
     "name": "stdout",
     "output_type": "stream",
     "text": [
      "The deck has : \n",
      "Card: Ace of Spades, value : 11\n",
      "Card: Five of Diamonds, value : 5\n",
      "Card: Queen of Diamonds, value : 10\n",
      "Card: Six of Diamonds, value : 6\n",
      "Card: King of Diamonds, value : 10\n",
      "Card: King of Hearts, value : 10\n",
      "Card: Six of Spades, value : 6\n",
      "Card: Queen of Clubs, value : 10\n",
      "Card: Five of Clubs, value : 5\n",
      "Card: Six of Clubs, value : 6\n",
      "Card: Two of Diamonds, value : 2\n",
      "Card: Four of Clubs, value : 4\n",
      "Card: Ace of Hearts, value : 11\n",
      "Card: Three of Clubs, value : 3\n",
      "Card: Ten of Diamonds, value : 10\n",
      "Card: Jack of Clubs, value : 10\n",
      "Card: Three of Spades, value : 3\n",
      "Card: Ace of Diamonds, value : 11\n",
      "Card: Five of Spades, value : 5\n",
      "Card: Seven of Diamonds, value : 7\n",
      "Card: Jack of Hearts, value : 10\n",
      "Card: King of Spades, value : 10\n",
      "Card: Eight of Spades, value : 8\n",
      "Card: Two of Clubs, value : 2\n",
      "Card: Seven of Hearts, value : 7\n",
      "Card: Four of Spades, value : 4\n",
      "Card: Queen of Hearts, value : 10\n",
      "Card: King of Clubs, value : 10\n",
      "Card: Six of Hearts, value : 6\n",
      "Card: Two of Spades, value : 2\n",
      "Card: Seven of Spades, value : 7\n",
      "Card: Ten of Clubs, value : 10\n",
      "Card: Nine of Diamonds, value : 9\n",
      "Card: Queen of Spades, value : 10\n",
      "Card: Ten of Spades, value : 10\n",
      "Card: Four of Diamonds, value : 4\n",
      "Card: Five of Hearts, value : 5\n",
      "Card: Seven of Clubs, value : 7\n",
      "Card: Eight of Hearts, value : 8\n",
      "Card: Three of Hearts, value : 3\n",
      "Card: Nine of Clubs, value : 9\n",
      "Card: Three of Diamonds, value : 3\n",
      "Card: Nine of Hearts, value : 9\n",
      "Card: Jack of Diamonds, value : 10\n",
      "Card: Two of Hearts, value : 2\n",
      "Card: Ace of Clubs, value : 11\n",
      "Card: Nine of Spades, value : 9\n",
      "Card: Ten of Hearts, value : 10\n",
      "Card: Jack of Spades, value : 10\n",
      "Card: Eight of Diamonds, value : 8\n",
      "Card: Eight of Clubs, value : 8 \n",
      "Deck cards : 51 cards\n"
     ]
    }
   ],
   "source": [
    "print(mydeck)"
   ]
  },
  {
   "cell_type": "code",
   "execution_count": null,
   "id": "a5931859-0bf7-4a6d-b124-7b52eb30a433",
   "metadata": {},
   "outputs": [],
   "source": []
  },
  {
   "cell_type": "code",
   "execution_count": null,
   "id": "21026e01-2f08-4e92-ae0b-24aca5a28c72",
   "metadata": {},
   "outputs": [],
   "source": []
  },
  {
   "cell_type": "code",
   "execution_count": 1,
   "id": "7520ff8f-91cc-467b-a5af-7d90645de272",
   "metadata": {},
   "outputs": [],
   "source": [
    "# Hands card"
   ]
  },
  {
   "cell_type": "code",
   "execution_count": 2,
   "id": "17b3639f-145b-4d37-9cca-6ba6183979a1",
   "metadata": {},
   "outputs": [],
   "source": [
    "class Hand:\n",
    "\n",
    "    def __init__(self):\n",
    "        self.cards = []\n",
    "        self.value = 0\n",
    "        self.aces = 0\n",
    "\n",
    "    def add_card(new_card):\n",
    "        self.cards.append(new_card)\n",
    "        \n",
    "        if new_card.rank == 'Ace':\n",
    "            self.aces += 1\n",
    "            \n",
    "        for card in self.cards:\n",
    "            self.value += card.value\n",
    "\n",
    "    def adjust_for_ace(self):\n",
    "        if self.aces > 0:\n",
    "            aces_u = 0\n",
    "            for ace_i in self.aces:\n",
    "                if self.value > 21:\n",
    "                    self.value -= 10\n",
    "                    aces_u += 1\n",
    "                else:\n",
    "                    break\n",
    "            self.aces -= aces_u\n",
    "            \n",
    "        else:\n",
    "            print('No aces present in hand')    \n"
   ]
  },
  {
   "cell_type": "code",
   "execution_count": null,
   "id": "3f44a4c6-cd6a-4eab-9556-3a4b227b9bb3",
   "metadata": {},
   "outputs": [],
   "source": []
  },
  {
   "cell_type": "code",
   "execution_count": 3,
   "id": "7dbabb65-1042-4558-8935-a988f5828ab9",
   "metadata": {},
   "outputs": [],
   "source": [
    "#Chips"
   ]
  },
  {
   "cell_type": "code",
   "execution_count": 4,
   "id": "93d0a256-1d36-42fe-92b6-2004587d3b10",
   "metadata": {},
   "outputs": [],
   "source": [
    "class Chips:\n",
    "\n",
    "    def __init__(self, total=100):\n",
    "        self.total = total # total amount of chips\n",
    "        self.bet = 0 # user bet\n",
    "\n",
    "    def user_bet(self, bet):\n",
    "        if bet <= self.total:\n",
    "            self.bet = bet\n",
    "            return True\n",
    "        else:\n",
    "            print('Invalid bet')\n",
    "            return False\n",
    "\n",
    "    def win_bet(self):\n",
    "        self.total += self.bet\n",
    "\n",
    "    def lose_bet(self):\n",
    "        self.total -= self.bet"
   ]
  },
  {
   "cell_type": "code",
   "execution_count": null,
   "id": "bc539675-4751-48b8-bf9a-5ef0fef3e7bc",
   "metadata": {},
   "outputs": [],
   "source": []
  },
  {
   "cell_type": "code",
   "execution_count": 9,
   "id": "4ea266ed-e7d4-49d7-bef3-5e92b80c3a2d",
   "metadata": {},
   "outputs": [],
   "source": [
    "# take bet\n",
    "\n",
    "def take_bet():\n",
    "    \n",
    "    try:\n",
    "        chips = int(input('Please enter the amount to be bet :'))\n",
    "    except ValueError:\n",
    "        print('Please enter valid integer')\n",
    "            \n",
    "    "
   ]
  },
  {
   "cell_type": "code",
   "execution_count": 10,
   "id": "ce0cdf5a-efa3-4cc1-8616-72c094436b18",
   "metadata": {},
   "outputs": [
    {
     "name": "stdin",
     "output_type": "stream",
     "text": [
      "Please enter the amount to be bet : das\n"
     ]
    },
    {
     "name": "stdout",
     "output_type": "stream",
     "text": [
      "Please enter valid integer\n"
     ]
    }
   ],
   "source": [
    "take_bet()"
   ]
  },
  {
   "cell_type": "code",
   "execution_count": null,
   "id": "b6d42699-1e2e-478f-9257-c5525594819b",
   "metadata": {},
   "outputs": [],
   "source": []
  }
 ],
 "metadata": {
  "kernelspec": {
   "display_name": "Python 3 (ipykernel)",
   "language": "python",
   "name": "python3"
  },
  "language_info": {
   "codemirror_mode": {
    "name": "ipython",
    "version": 3
   },
   "file_extension": ".py",
   "mimetype": "text/x-python",
   "name": "python",
   "nbconvert_exporter": "python",
   "pygments_lexer": "ipython3",
   "version": "3.10.12"
  }
 },
 "nbformat": 4,
 "nbformat_minor": 5
}
